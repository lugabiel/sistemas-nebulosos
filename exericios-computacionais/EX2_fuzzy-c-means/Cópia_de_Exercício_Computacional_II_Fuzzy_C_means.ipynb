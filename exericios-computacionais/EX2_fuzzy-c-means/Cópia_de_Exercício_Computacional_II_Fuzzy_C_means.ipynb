{
  "cells": [
    {
      "cell_type": "markdown",
      "source": [
        "<a href=\"https://colab.research.google.com/github/lugabiel/sistemas-nebulosos/blob/desenvolvimento/C%C3%B3pia_de_Exerc%C3%ADcio_Computacional_II_Fuzzy_C_means.ipynb\" target=\"_parent\"><img src=\"https://colab.research.google.com/assets/colab-badge.svg\" alt=\"Open In Colab\"/></a>"
      ],
      "metadata": {
        "id": "view-in-github",
        "colab_type": "text"
      }
    },
    {
      "cell_type": "code",
      "source": [
        "%matplotlib inline\n",
        "\n",
        "import matplotlib.pyplot as plt\n",
        "import numpy as np\n",
        "import matplotlib.gridspec as gridspec\n",
        "from matplotlib import cm\n",
        "from IPython import display\n",
        "from sklearn.datasets import make_classification\n",
        "from sklearn.datasets import load_sample_image"
      ],
      "outputs": [
        {
          "output_type": "error",
          "ename": "ModuleNotFoundError",
          "evalue": "No module named 'sklearn'",
          "traceback": [
            "\u001b[1;31m---------------------------------------------------------------------------\u001b[0m",
            "\u001b[1;31mModuleNotFoundError\u001b[0m                       Traceback (most recent call last)",
            "\u001b[1;32m<ipython-input-2-fe77d9d03312>\u001b[0m in \u001b[0;36m<module>\u001b[1;34m\u001b[0m\n\u001b[0;32m      6\u001b[0m \u001b[1;32mfrom\u001b[0m \u001b[0mmatplotlib\u001b[0m \u001b[1;32mimport\u001b[0m \u001b[0mcm\u001b[0m\u001b[1;33m\u001b[0m\u001b[1;33m\u001b[0m\u001b[0m\n\u001b[0;32m      7\u001b[0m \u001b[1;32mfrom\u001b[0m \u001b[0mIPython\u001b[0m \u001b[1;32mimport\u001b[0m \u001b[0mdisplay\u001b[0m\u001b[1;33m\u001b[0m\u001b[1;33m\u001b[0m\u001b[0m\n\u001b[1;32m----> 8\u001b[1;33m \u001b[1;32mfrom\u001b[0m \u001b[0msklearn\u001b[0m\u001b[1;33m.\u001b[0m\u001b[0mdatasets\u001b[0m \u001b[1;32mimport\u001b[0m \u001b[0mmake_classification\u001b[0m\u001b[1;33m\u001b[0m\u001b[1;33m\u001b[0m\u001b[0m\n\u001b[0m\u001b[0;32m      9\u001b[0m \u001b[1;32mfrom\u001b[0m \u001b[0msklearn\u001b[0m\u001b[1;33m.\u001b[0m\u001b[0mdatasets\u001b[0m \u001b[1;32mimport\u001b[0m \u001b[0mload_sample_image\u001b[0m\u001b[1;33m\u001b[0m\u001b[1;33m\u001b[0m\u001b[0m\n",
            "\u001b[1;31mModuleNotFoundError\u001b[0m: No module named 'sklearn'"
          ]
        }
      ],
      "execution_count": 2,
      "metadata": {
        "id": "3-JI_zKROM-h",
        "execution": {
          "iopub.status.busy": "2021-03-28T05:00:01.820Z",
          "iopub.execute_input": "2021-03-28T05:00:01.827Z"
        }
      }
    },
    {
      "cell_type": "markdown",
      "source": [
        "## Exercício 1\n",
        "\n",
        "Implemente o algoritmo *fuzzy c-means*, como visto em sala de aula.\n",
        "\n",
        "O algoritmo recebe como argumentos:\n",
        "\n",
        "* a matriz de observações $X$ de dimensão $n \\times d$, em que $n$ corresponde ao número de observações e $d$ a dimensão de cada observação;\n",
        "* o número de grupos a serem estimados, $k$;\n",
        "* o valor da constante $m$ (utilize o valor *default*);\n",
        "* um limiar $\\epsilon$ utilizado no critério de parada do algoritmo (utilize o valor *default*);\n",
        "* um número máximo de iterações, *max_iter*, para garantir que o algoritmo pare, caso o critério de parada não seja atingido\n"
      ],
      "metadata": {
        "id": "dsCtQdCDoJJC"
      }
    },
    {
      "cell_type": "code",
      "source": [
        "def fuzzy_cmeans(X, k, m = 2, epsilon = 1e-8, max_iter = 50):\n",
        "    n,d = X.shape\n",
        "    \n",
        "    # PASSO 1 - Escolha k centros a partir de padrões aleatórios e armazene na matriz\n",
        "    # center, de dimensoes kxd\n",
        "    center = #<SEU CODIGO AQUI>    \n",
        "    \n",
        "    # Matriz de distancias de dimensao nxk\n",
        "    dist = np.zeros((n,k))\n",
        "    \n",
        "    # Matriz U de dimensão nxk\n",
        "    U = np.zeros((n,k))\n",
        "    \n",
        "    plt.figure(figsize=(15,5))\n",
        "    if (d==2):\n",
        "      gs = gridspec.GridSpec(1,2)\n",
        "    oldJ = 0\n",
        "    \n",
        "    iteration = 0\n",
        "    j_vec = np.zeros(max_iter+1)\n",
        "    while (iteration < max_iter):\n",
        "        \n",
        "        # PASSO 1 - Atualize a matriz U\n",
        "        \n",
        "        # - Calcule a distância entre todos os pontos\n",
        "        # e os centros dos grupos e armazena na matriz dist\n",
        "        #<SEU CODIGO AQUI>\n",
        "        \n",
        "        # Atualize os elementos da matriz U a partir da fórmula \n",
        "        # dada no slide\n",
        "        #<SEU CODIGO AQUI>\n",
        "        \n",
        "        # PASSO 2 - Recalcule os centros dos grupos a partir \n",
        "        # da nova estimativa da matriz U\n",
        "        # <SEU CODIGO AQUI>    \n",
        "\n",
        "            \n",
        "        # PASSO 4 - Pare se o critério de convergência foi atingido, \n",
        "        # caso contrário  vá para o Passo 2\n",
        "        # - Calcula a função objetivo a partir da formula dada nos slides\n",
        "        # e armazene no escalar J\n",
        "        # <SEU CODIGO AQUI>\n",
        "        \n",
        "        j_vec[iteration] = J\n",
        "\n",
        "            \n",
        "        # - Checa se a variação na função objetivo foi significativa\n",
        "        if (np.linalg.norm(J-oldJ) <= epsilon):\n",
        "            break;\n",
        "                \n",
        "        \n",
        "        ## PLOTA OS RESULTADOS PARCIAIS        \n",
        "        if (d==2):\n",
        "          \n",
        "          plt.subplot(gs[0])\n",
        "          plt.cla()\n",
        "          plt.scatter(X[:,0],X[:,1])\n",
        "          plt.plot(center[:,0],center[:,1], 'r<', markersize=10)\n",
        "          plt.title('Iteration: %d'%(iteration))\n",
        "        \n",
        "          plt.subplot(gs[1])\n",
        "          \n",
        "        plt.cla()\n",
        "        plt.plot(j_vec[:iteration])\n",
        "        plt.title('Iteration: %d - J = %.4f'%(iteration,J))\n",
        "        \n",
        "        display.clear_output(wait=True)\n",
        "        display.display(plt.gcf())           \n",
        "            \n",
        "\n",
        "        oldJ = J\n",
        "        iteration = iteration + 1\n",
        "        \n",
        "    display.clear_output(wait=True)\n",
        "    return center, U, J"
      ],
      "outputs": [
        {
          "output_type": "error",
          "ename": "SyntaxError",
          "evalue": "ignored",
          "traceback": [
            "\u001b[0;36m  File \u001b[0;32m\"<ipython-input-2-dc72e64b582a>\"\u001b[0;36m, line \u001b[0;32m6\u001b[0m\n\u001b[0;31m    center = #<SEU CODIGO AQUI>\u001b[0m\n\u001b[0m                                   ^\u001b[0m\n\u001b[0;31mSyntaxError\u001b[0m\u001b[0;31m:\u001b[0m invalid syntax\n"
          ]
        }
      ],
      "execution_count": null,
      "metadata": {
        "id": "_bldxPdnOM-n",
        "colab": {
          "base_uri": "https://localhost:8080/",
          "height": 130
        },
        "outputId": "8ffe9e23-8d5e-46d3-9891-91c1cc225b50"
      }
    },
    {
      "cell_type": "markdown",
      "source": [
        "Valide seu algoritmo com o código abaixo."
      ],
      "metadata": {
        "id": "4H3w1C-GphRv"
      }
    },
    {
      "cell_type": "code",
      "source": [
        "X,_ = make_classification(n_samples= 100, n_features=2, n_classes = 4, n_clusters_per_class=1, \n",
        "                          n_informative=2, n_redundant=0, n_repeated=0,\n",
        "                         class_sep = 2)\n",
        "centers, U, J = fuzzy_cmeans(X,k=4)"
      ],
      "outputs": [],
      "execution_count": null,
      "metadata": {
        "id": "QQenrdi0pZg5"
      }
    },
    {
      "cell_type": "markdown",
      "source": [
        "## Exercício 2\n",
        "\n",
        "Nesse exercício iremos realizar uma quantização das cores (https://en.wikipedia.org/wiki/Color_quantization) de uma imagem utilizando agrupamento.\n",
        "\n",
        "Dado uma imagem representada como uma combinação de 256 possíveis valores de intensidade para vermelho, verde e e azul (RGB), iremos\n",
        "reduzir o número cores para representar a imagem utilizando o algoritmo *fuzzy c-means*. O número de cores resultantes será igual ao número de grupos a serem encontrados $k$.\n",
        "\n",
        "Para isso você deve realizar os seguintes passos:\n",
        "\n",
        "1. Ler as matrizes de cores vermelho, verde e azul (RGB) da imagem de entrada. O conteúdo da imagem será armazenado em uma matriz *I* de dimensões $w\\times h \\times 3$, onde 3 corresponde aos três canais de cor e $w$ e $h$ às dimensões horizontais e verticais da imagem (necessário para utilizar a função *plt.imshow*)\n",
        "2. Converter os valores de cada canal de cor originalmente na faixa [0,255] para [0,1]\n",
        "3. Converter a matriz $I$  em uma matriz $X$ de dimensões $wh \\times 3$. Cada linha dessa matriz corresponde aos valores vermelho, verde e azul de cada pixel da imagem (dica: utilize a funçao np.reshape)\n",
        "4. Realizar o agrupamento dos dados a partir da matriz $X$, obtendo os centros e a matriz U\n",
        "5. Realizar o particionamento dos dados nos $k$ grupos, associando cada ponto ao grupo com o maior valor de pertinência\n",
        "5. Converter a matriz $X$ em uma matriz $V$ de dimensões $3 \\times w \\times h$. Essa matriz tem as mesmas dimensões da matriz $I$, porém o valor original RGB de cada pixel deve ser substituído pelo valor RGB do centro do grupo correspondente"
      ],
      "metadata": {
        "id": "sBF5-C7EqmfS"
      }
    },
    {
      "cell_type": "code",
      "source": [
        "k = 64\n",
        "\n",
        "# Passo 1 - Carrega a imagem original\n",
        "I = load_sample_image(\"china.jpg\")\n",
        "\n",
        "# Passo 2 - Converter os valores para [0,1]\n",
        "I = np.array(I, dtype=np.float64) / 255\n",
        "\n",
        "# Passo 3 - Converter I em X (utilize a função np.reshape)\n",
        "#<SEU CODIGO AQUI>\n",
        "\n",
        "# Passo 4 - Realizar o agrupamento dos dados utilizando o algoritmo fuzzy c-means\n",
        "#<SEU CODIGO AQUI>\n",
        "\n",
        "# Passo 5 - Realizar o particionamento dos dados nos  c  grupos, associando cada ponto ao grupo com o maior valor de pertinência\n",
        "\n",
        "# Passo 6 - Converter X em V substituindo os valores RGB originais de cada pixel pelo valor RGB do centro correspondente\n",
        "#<SEU CODIGO AQUI>\n",
        "\n",
        "\n",
        "plt.figure(2)\n",
        "plt.clf()\n",
        "ax = plt.axes([0, 0, 1, 1])\n",
        "plt.axis('off')\n",
        "plt.title('Original image (96,615 colors)')\n",
        "plt.imshow(I)\n",
        "\n",
        "plt.figure(3)\n",
        "plt.clf()\n",
        "ax = plt.axes([0, 0, 1, 1])\n",
        "plt.axis('off')\n",
        "plt.title('Quantized image (%d colors, Fuzzy C-Means)'% k)\n",
        "plt.imshow(V)"
      ],
      "outputs": [],
      "execution_count": null,
      "metadata": {
        "id": "HSpfx9Msu7b-"
      }
    }
  ],
  "metadata": {
    "colab": {
      "name": "Cópia de Exercício Computacional II - Fuzzy C-means",
      "provenance": [],
      "include_colab_link": true
    },
    "kernelspec": {
      "display_name": "Python 2",
      "language": "python",
      "name": "python2"
    },
    "language_info": {
      "name": "python",
      "version": "3.8.3",
      "mimetype": "text/x-python",
      "codemirror_mode": {
        "name": "ipython",
        "version": 3
      },
      "pygments_lexer": "ipython3",
      "nbconvert_exporter": "python",
      "file_extension": ".py"
    },
    "nteract": {
      "version": "0.28.0"
    }
  },
  "nbformat": 4,
  "nbformat_minor": 0
}